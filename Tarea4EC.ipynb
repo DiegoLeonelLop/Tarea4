{
  "nbformat": 4,
  "nbformat_minor": 0,
  "metadata": {
    "colab": {
      "name": "Tarea4EC.ipynb",
      "provenance": []
    },
    "kernelspec": {
      "name": "python3",
      "display_name": "Python 3"
    },
    "language_info": {
      "name": "python"
    }
  },
  "cells": [
    {
      "cell_type": "code",
      "metadata": {
        "id": "kVu9Ll4HjKrA",
        "colab": {
          "base_uri": "https://localhost:8080/"
        },
        "outputId": "85879ad3-448e-4262-9b91-387ec22b6190"
      },
      "source": [
        "a = float(input('Introduce el valor de a:'))\n",
        "b = float(input('Introduce el valor de b:'))\n",
        "c = float(input('Introduce el valor de c:'))\n",
        "\n",
        "x1=(-b+(((b*b)-(4*a*c))**0.5))/(2*a)\n",
        "x2=(-b-(((b*b)-(4*a*c))**0.5))/(2*a)\n",
        "\n",
        "print('El valor de x1 es:')\n",
        "print(x1)\n",
        "\n",
        "print('El valor de x2 es:')\n",
        "print(x2)\n"
      ],
      "execution_count": 16,
      "outputs": [
        {
          "output_type": "stream",
          "name": "stdout",
          "text": [
            "Introduce el valor de a:4\n",
            "Introduce el valor de b:9\n",
            "Introduce el valor de c:-8\n",
            "El valor de x1 es:\n",
            "0.6821040368501201\n",
            "El valor de x2 es:\n",
            "-2.93210403685012\n"
          ]
        }
      ]
    }
  ]
}